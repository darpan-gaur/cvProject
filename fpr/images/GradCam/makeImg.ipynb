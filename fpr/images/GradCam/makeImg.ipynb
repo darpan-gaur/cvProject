{
 "cells": [
  {
   "cell_type": "code",
   "execution_count": null,
   "id": "0a4bb214",
   "metadata": {},
   "outputs": [],
   "source": [
    "import numpy as np\n",
    "import matplotlib.pyplot as plt\n",
    "import cv2"
   ]
  }
 ],
 "metadata": {
  "kernelspec": {
   "display_name": "test",
   "language": "python",
   "name": "python3"
  },
  "language_info": {
   "name": "python",
   "version": "3.12.3"
  }
 },
 "nbformat": 4,
 "nbformat_minor": 5
}
